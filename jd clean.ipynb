{
 "cells": [
  {
   "cell_type": "code",
   "execution_count": 37,
   "id": "36c11248-6298-40ea-98d6-4baa132cec7f",
   "metadata": {},
   "outputs": [],
   "source": [
    "import pandas as pd\n",
    "import re\n",
    "import matplotlib.pyplot as plt\n",
    "from sklearn.model_selection import train_test_split\n"
   ]
  },
  {
   "cell_type": "code",
   "execution_count": 19,
   "id": "5825601c-25d4-46ed-82eb-3047848e9ad3",
   "metadata": {},
   "outputs": [
    {
     "name": "stdout",
     "output_type": "stream",
     "text": [
      "Dataset loaded successfully. Shape: (123849, 31)\n"
     ]
    }
   ],
   "source": [
    "#data from https://www.kaggle.com/datasets/arshkon/linkedin-job-postings\n",
    "df = pd.read_csv(r\"C:\\Users\\User\\Downloads\\postings.csv\")\n",
    "\n",
    "print(\"Dataset loaded successfully. Shape:\", df.shape)\n"
   ]
  },
  {
   "cell_type": "code",
   "execution_count": 20,
   "id": "db477780-655d-4927-8358-efc3ce86baa2",
   "metadata": {},
   "outputs": [
    {
     "name": "stdout",
     "output_type": "stream",
     "text": [
      "First few rows:\n",
      "     job_id            company_name  \\\n",
      "0    921716   Corcoran Sawyer Smith   \n",
      "1   1829192                     NaN   \n",
      "2  10998357  The National Exemplar    \n",
      "3  23221523  Abrams Fensterman, LLP   \n",
      "4  35982263                     NaN   \n",
      "\n",
      "                                               title  \\\n",
      "0                              Marketing Coordinator   \n",
      "1                  Mental Health Therapist/Counselor   \n",
      "2                        Assitant Restaurant Manager   \n",
      "3  Senior Elder Law / Trusts and Estates Associat...   \n",
      "4                                 Service Technician   \n",
      "\n",
      "                                         description  max_salary pay_period  \\\n",
      "0  Job descriptionA leading real estate firm in N...        20.0     HOURLY   \n",
      "1  At Aspen Therapy and Wellness , we are committ...        50.0     HOURLY   \n",
      "2  The National Exemplar is accepting application...     65000.0     YEARLY   \n",
      "3  Senior Associate Attorney - Elder Law / Trusts...    175000.0     YEARLY   \n",
      "4  Looking for HVAC service tech with experience ...     80000.0     YEARLY   \n",
      "\n",
      "            location  company_id  views  med_salary  ...  \\\n",
      "0      Princeton, NJ   2774458.0   20.0         NaN  ...   \n",
      "1   Fort Collins, CO         NaN    1.0         NaN  ...   \n",
      "2     Cincinnati, OH  64896719.0    8.0         NaN  ...   \n",
      "3  New Hyde Park, NY    766262.0   16.0         NaN  ...   \n",
      "4     Burlington, IA         NaN    3.0         NaN  ...   \n",
      "\n",
      "                                         skills_desc   listed_time  \\\n",
      "0  Requirements: \\n\\nWe are seeking a College or ...  1.713398e+12   \n",
      "1                                                NaN  1.712858e+12   \n",
      "2  We are currently accepting resumes for FOH - A...  1.713278e+12   \n",
      "3  This position requires a baseline understandin...  1.712896e+12   \n",
      "4                                                NaN  1.713452e+12   \n",
      "\n",
      "   posting_domain  sponsored  work_type currency compensation_type  \\\n",
      "0             NaN          0  FULL_TIME      USD       BASE_SALARY   \n",
      "1             NaN          0  FULL_TIME      USD       BASE_SALARY   \n",
      "2             NaN          0  FULL_TIME      USD       BASE_SALARY   \n",
      "3             NaN          0  FULL_TIME      USD       BASE_SALARY   \n",
      "4             NaN          0  FULL_TIME      USD       BASE_SALARY   \n",
      "\n",
      "  normalized_salary  zip_code     fips  \n",
      "0           38480.0    8540.0  34021.0  \n",
      "1           83200.0   80521.0   8069.0  \n",
      "2           55000.0   45202.0  39061.0  \n",
      "3          157500.0   11040.0  36059.0  \n",
      "4           70000.0   52601.0  19057.0  \n",
      "\n",
      "[5 rows x 31 columns]\n",
      "\n",
      "Dataset info:\n",
      "<class 'pandas.core.frame.DataFrame'>\n",
      "RangeIndex: 123849 entries, 0 to 123848\n",
      "Data columns (total 31 columns):\n",
      " #   Column                      Non-Null Count   Dtype  \n",
      "---  ------                      --------------   -----  \n",
      " 0   job_id                      123849 non-null  int64  \n",
      " 1   company_name                122130 non-null  object \n",
      " 2   title                       123849 non-null  object \n",
      " 3   description                 123842 non-null  object \n",
      " 4   max_salary                  29793 non-null   float64\n",
      " 5   pay_period                  36073 non-null   object \n",
      " 6   location                    123849 non-null  object \n",
      " 7   company_id                  122132 non-null  float64\n",
      " 8   views                       122160 non-null  float64\n",
      " 9   med_salary                  6280 non-null    float64\n",
      " 10  min_salary                  29793 non-null   float64\n",
      " 11  formatted_work_type         123849 non-null  object \n",
      " 12  applies                     23320 non-null   float64\n",
      " 13  original_listed_time        123849 non-null  float64\n",
      " 14  remote_allowed              15246 non-null   float64\n",
      " 15  job_posting_url             123849 non-null  object \n",
      " 16  application_url             87184 non-null   object \n",
      " 17  application_type            123849 non-null  object \n",
      " 18  expiry                      123849 non-null  float64\n",
      " 19  closed_time                 1073 non-null    float64\n",
      " 20  formatted_experience_level  94440 non-null   object \n",
      " 21  skills_desc                 2439 non-null    object \n",
      " 22  listed_time                 123849 non-null  float64\n",
      " 23  posting_domain              83881 non-null   object \n",
      " 24  sponsored                   123849 non-null  int64  \n",
      " 25  work_type                   123849 non-null  object \n",
      " 26  currency                    36073 non-null   object \n",
      " 27  compensation_type           36073 non-null   object \n",
      " 28  normalized_salary           36073 non-null   float64\n",
      " 29  zip_code                    102977 non-null  float64\n",
      " 30  fips                        96434 non-null   float64\n",
      "dtypes: float64(14), int64(2), object(15)\n",
      "memory usage: 29.3+ MB\n",
      "None\n",
      "\n",
      "Missing values per column:\n",
      "job_id                             0\n",
      "company_name                    1719\n",
      "title                              0\n",
      "description                        7\n",
      "max_salary                     94056\n",
      "pay_period                     87776\n",
      "location                           0\n",
      "company_id                      1717\n",
      "views                           1689\n",
      "med_salary                    117569\n",
      "min_salary                     94056\n",
      "formatted_work_type                0\n",
      "applies                       100529\n",
      "original_listed_time               0\n",
      "remote_allowed                108603\n",
      "job_posting_url                    0\n",
      "application_url                36665\n",
      "application_type                   0\n",
      "expiry                             0\n",
      "closed_time                   122776\n",
      "formatted_experience_level     29409\n",
      "skills_desc                   121410\n",
      "listed_time                        0\n",
      "posting_domain                 39968\n",
      "sponsored                          0\n",
      "work_type                          0\n",
      "currency                       87776\n",
      "compensation_type              87776\n",
      "normalized_salary              87776\n",
      "zip_code                       20872\n",
      "fips                           27415\n",
      "dtype: int64\n"
     ]
    }
   ],
   "source": [
    "#preview\n",
    "print(\"First few rows:\")\n",
    "print(df.head(5))\n",
    "\n",
    "#general info\n",
    "print(\"\\nDataset info:\")\n",
    "print(df.info())\n",
    "\n",
    "#missing values\n",
    "print(\"\\nMissing values per column:\")\n",
    "print(df.isnull().sum())\n"
   ]
  },
  {
   "cell_type": "code",
   "execution_count": 21,
   "id": "0ab3358e-2392-4bb4-aa4a-996e9571b9ac",
   "metadata": {},
   "outputs": [
    {
     "name": "stdout",
     "output_type": "stream",
     "text": [
      "Number of duplicate descriptions: 16021\n",
      "Percentage of duplicate descriptions: 12.94%\n"
     ]
    }
   ],
   "source": [
    "#duplicates\n",
    "duplicate_count = df.duplicated(subset=[\"description\"]).sum()\n",
    "print(\"Number of duplicate descriptions:\", duplicate_count)\n",
    "\n",
    "duplicate_percentage = (duplicate_count / len(df)) * 100\n",
    "print(f\"Percentage of duplicate descriptions: {duplicate_percentage:.2f}%\")\n"
   ]
  },
  {
   "cell_type": "code",
   "execution_count": 22,
   "id": "34238960-2d1c-4d53-bf34-97719dc81a95",
   "metadata": {},
   "outputs": [
    {
     "name": "stdout",
     "output_type": "stream",
     "text": [
      "Number of very short descriptions (<100 chars): 149\n",
      "Percentage of very short descriptions: 0.12%\n"
     ]
    }
   ],
   "source": [
    "#very short job descriptions (<100 characters)\n",
    "short_descriptions = df[\"description\"].apply(lambda x: len(str(x)) < 100).sum()\n",
    "print(\"Number of very short descriptions (<100 chars):\", short_descriptions)\n",
    "\n",
    "short_percentage = (short_descriptions / len(df)) * 100\n",
    "print(f\"Percentage of very short descriptions: {short_percentage:.2f}%\")\n"
   ]
  },
  {
   "cell_type": "code",
   "execution_count": 23,
   "id": "6c02b007-ae2d-48b0-ade1-ab1739212001",
   "metadata": {},
   "outputs": [
    {
     "name": "stdout",
     "output_type": "stream",
     "text": [
      "Percentage of mostly English descriptions: 99.82%\n"
     ]
    }
   ],
   "source": [
    "#checking for English\n",
    "def is_mostly_english(text):\n",
    "    text = str(text)  # Force into string\n",
    "    english_chars = re.findall(r'[A-Za-z]', text)\n",
    "    if len(english_chars) / max(len(text), 1) > 0.7:\n",
    "        return True\n",
    "    return False\n",
    "\n",
    "english_jobs = df[\"description\"].apply(is_mostly_english).sum()\n",
    "english_percentage = (english_jobs / len(df)) * 100\n",
    "print(f\"Percentage of mostly English descriptions: {english_percentage:.2f}%\")\n"
   ]
  },
  {
   "cell_type": "code",
   "execution_count": 24,
   "id": "2c62192c-1ecc-4eab-9da1-4daed1bdefde",
   "metadata": {},
   "outputs": [
    {
     "name": "stdout",
     "output_type": "stream",
     "text": [
      "Missing skills_desc entries: 121410\n",
      "Percentage of missing skills_desc: 98.03%\n"
     ]
    }
   ],
   "source": [
    "#missing values in skills_desc\n",
    "missing_skills = df[\"skills_desc\"].isnull().sum()\n",
    "total_rows = len(df)\n",
    "missing_percentage = (missing_skills / total_rows) * 100\n",
    "\n",
    "print(f\"Missing skills_desc entries: {missing_skills}\")\n",
    "print(f\"Percentage of missing skills_desc: {missing_percentage:.2f}%\")\n"
   ]
  },
  {
   "cell_type": "code",
   "execution_count": 29,
   "id": "105b00bf-74a6-41e5-9dc0-515e858f2fdd",
   "metadata": {},
   "outputs": [
    {
     "name": "stdout",
     "output_type": "stream",
     "text": [
      "Final cleaned dataset shape: (80502, 7)\n",
      "Remaining columns: ['job_id', 'company_name', 'title', 'description', 'location', 'formatted_work_type', 'formatted_experience_level']\n"
     ]
    }
   ],
   "source": [
    "# 1: drop columns\n",
    "columns_to_drop = [\n",
    "    \"company_id\", \"views\", \"med_salary\", \"applies\", \"original_listed_time\", \"remote_allowed\", \"job_posting_url\", \"application_url\", \"application_type\", \n",
    "    \"expiry\", \"closed_time\", \"skills_desc\", \"listed_time\", \"posting_domain\", \"sponsored\", \"compensation_type\", \"zip_code\", \"fips\",\"max_salary\", \n",
    "    \"min_salary\", \"pay_period\", \"currency\", \"normalized_salary\", \"work_type\"]\n",
    "\n",
    "df = df.drop(columns=columns_to_drop, errors='ignore')\n",
    "\n",
    "# 2: remove duplicate descriptions\n",
    "df = df.drop_duplicates(subset=[\"description\"])\n",
    "\n",
    "# 3: remove very short descriptions (<100 characters)\n",
    "df = df[df[\"description\"].apply(lambda x: len(str(x)) >= 100)]\n",
    "\n",
    "# 4: remove descriptions that are not mostly English\n",
    "def is_mostly_english(text):\n",
    "    text = str(text)\n",
    "    english_chars = re.findall(r'[A-Za-z]', text)\n",
    "    if len(english_chars) / max(len(text), 1) > 0.7:\n",
    "        return True\n",
    "    return False\n",
    "\n",
    "df = df[df[\"description\"].apply(is_mostly_english)]\n",
    "\n",
    "#reset index after cleaning\n",
    "df = df.reset_index(drop=True)\n",
    "\n",
    "#final dataset shape and columns\n",
    "print(\"Final cleaned dataset shape:\", df.shape)\n",
    "print(\"Remaining columns:\", df.columns.tolist())\n"
   ]
  },
  {
   "cell_type": "code",
   "execution_count": 30,
   "id": "532f67a7-058a-4477-8c60-b82bd7b3aebc",
   "metadata": {},
   "outputs": [
    {
     "name": "stdout",
     "output_type": "stream",
     "text": [
      "Missing values per column\n",
      "job_id                        0.000000\n",
      "company_name                  0.306825\n",
      "title                         0.000000\n",
      "description                   0.000000\n",
      "location                      0.000000\n",
      "formatted_work_type           0.000000\n",
      "formatted_experience_level    0.000000\n",
      "dtype: float64\n",
      "\n",
      "Unique values per column\n",
      "job_id                        80502\n",
      "company_name                  15162\n",
      "title                         54533\n",
      "description                   80502\n",
      "location                       7203\n",
      "formatted_work_type               7\n",
      "formatted_experience_level        6\n",
      "dtype: int64\n",
      "\n",
      " Overview\n",
      "                            Missing %  Unique values\n",
      "company_name                 0.306825          15162\n",
      "job_id                       0.000000          80502\n",
      "title                        0.000000          54533\n",
      "description                  0.000000          80502\n",
      "location                     0.000000           7203\n",
      "formatted_work_type          0.000000              7\n",
      "formatted_experience_level   0.000000              6\n"
     ]
    }
   ],
   "source": [
    "#quality check \n",
    "\n",
    "# 1: missing value percentage for each column\n",
    "print(\"Missing values per column\")\n",
    "missing_percent = (df.isnull().sum() / len(df)) * 100\n",
    "print(missing_percent)\n",
    "\n",
    "# 2: unique values per column\n",
    "print(\"\\nUnique values per column\")\n",
    "unique_counts = df.nunique()\n",
    "print(unique_counts)\n",
    "\n",
    "# 3: quick overview\n",
    "print(\"\\n Overview\")\n",
    "overview = pd.DataFrame({\n",
    "    \"Missing %\": missing_percent,\n",
    "    \"Unique values\": unique_counts\n",
    "}).sort_values(by=\"Missing %\", ascending=False)\n",
    "\n",
    "print(overview)\n"
   ]
  },
  {
   "cell_type": "code",
   "execution_count": 31,
   "id": "9c7397ed-6e0a-49b2-8023-4fd79411495f",
   "metadata": {},
   "outputs": [
    {
     "data": {
      "image/png": "[encoded data removed]",
      "text/plain": [
       "<Figure size 640x480 with 1 Axes>"
      ]
     },
     "metadata": {},
     "output_type": "display_data"
    }
   ],
   "source": [
    "#experience level distribution\n",
    "df[\"formatted_experience_level\"].value_counts().plot(kind='bar', color='skyblue')\n",
    "plt.title(\"Experience Level Distribution (Full Dataset)\")\n",
    "plt.xlabel(\"Experience Level\")\n",
    "plt.ylabel(\"Count\")\n",
    "plt.xticks(rotation=45)\n",
    "plt.show()\n"
   ]
  },
  {
   "cell_type": "code",
   "execution_count": 33,
   "id": "7f3d4ddd-baf4-4a12-9af7-12df6a660a77",
   "metadata": {},
   "outputs": [],
   "source": [
    "#removing nulls from exp level\n",
    "df = df.dropna(subset=[\"formatted_experience_level\"])\n",
    "df = df.reset_index(drop=True)"
   ]
  },
  {
   "cell_type": "code",
   "execution_count": 34,
   "id": "cd0814d4-40cc-4610-9fdb-3280b462f3ed",
   "metadata": {},
   "outputs": [
    {
     "name": "stdout",
     "output_type": "stream",
     "text": [
      "       job_id             company_name  \\\n",
      "0  2147609789                 Revature   \n",
      "1  2457183642  Galerie Candy and Gifts   \n",
      "2  2558399667     I.T. Solutions, Inc.   \n",
      "3  2989631782             ActOne Group   \n",
      "4  3018278978             Aston Carter   \n",
      "\n",
      "                                               title  \\\n",
      "0  Entry Level Oracle Financial Technology Consul...   \n",
      "1                          Quality Assurance Manager   \n",
      "2                  Validation Engineer, Labware LIMS   \n",
      "3                  Administrative Assistant - CONCUR   \n",
      "4                      Seasonal Office Administrator   \n",
      "\n",
      "                                         description          location  \\\n",
      "0  About RevatureRevature is one of the largest a...  East Chicago, IN   \n",
      "1  Galerie is seeking an experienced Quality Assu...        Hebron, KY   \n",
      "2  Validation Engineer, Labware LIMSFoster City, ...   Foster City, CA   \n",
      "3  Global Financial Services firm is seeking an e...      New York, NY   \n",
      "4  Seasonal Office Admin\\n\\nResponsibilities\\n\\nW...        Dayton, OR   \n",
      "\n",
      "  formatted_work_type formatted_experience_level  \n",
      "0           Full-time                Entry level  \n",
      "1           Full-time           Mid-Senior level  \n",
      "2            Contract           Mid-Senior level  \n",
      "3           Full-time                  Associate  \n",
      "4            Contract                Entry level  \n",
      "\n",
      "Dataset info:\n",
      "<class 'pandas.core.frame.DataFrame'>\n",
      "RangeIndex: 80502 entries, 0 to 80501\n",
      "Data columns (total 7 columns):\n",
      " #   Column                      Non-Null Count  Dtype \n",
      "---  ------                      --------------  ----- \n",
      " 0   job_id                      80502 non-null  int64 \n",
      " 1   company_name                80255 non-null  object\n",
      " 2   title                       80502 non-null  object\n",
      " 3   description                 80502 non-null  object\n",
      " 4   location                    80502 non-null  object\n",
      " 5   formatted_work_type         80502 non-null  object\n",
      " 6   formatted_experience_level  80502 non-null  object\n",
      "dtypes: int64(1), object(6)\n",
      "memory usage: 4.3+ MB\n",
      "None\n",
      "\n",
      "Unique job titles: 54533\n",
      "Unique locations: 7203\n",
      "Unique formatted_work_types: 7\n",
      "Unique formatted_experience_levels: 6\n",
      "\n",
      "Top 10 job titles:\n",
      "title\n",
      "Project Manager                    244\n",
      "Customer Service Representative    206\n",
      "Senior Accountant                  196\n",
      "Administrative Assistant           166\n",
      "Staff Accountant                   156\n",
      "Registered Nurse                   145\n",
      "Receptionist                       135\n",
      "Controller                         135\n",
      "Executive Assistant                132\n",
      "Senior Software Engineer           130\n",
      "Name: count, dtype: int64\n",
      "\n",
      "Top 10 locations:\n",
      "location\n",
      "United States    4930\n",
      "New York, NY     1925\n",
      "Chicago, IL      1244\n",
      "Houston, TX      1164\n",
      "Dallas, TX        945\n",
      "Atlanta, GA       894\n",
      "Boston, MA        832\n",
      "Charlotte, NC     695\n",
      "Austin, TX        685\n",
      "Phoenix, AZ       678\n",
      "Name: count, dtype: int64\n",
      "\n",
      "Work type distribution:\n",
      "formatted_work_type\n",
      "Full-time     65002\n",
      "Contract       7905\n",
      "Part-time      5644\n",
      "Temporary       765\n",
      "Internship      555\n",
      "Volunteer       389\n",
      "Other           242\n",
      "Name: count, dtype: int64\n",
      "\n",
      "Experience level distribution:\n",
      "formatted_experience_level\n",
      "Mid-Senior level    35989\n",
      "Entry level         30081\n",
      "Associate            8714\n",
      "Director             3325\n",
      "Internship           1289\n",
      "Executive            1104\n",
      "Name: count, dtype: int64\n"
     ]
    }
   ],
   "source": [
    "#2nd EDA\n",
    "\n",
    "#preview\n",
    "print(df.head(5))\n",
    "\n",
    "#basic info\n",
    "print(\"\\nDataset info:\")\n",
    "print(df.info())\n",
    "\n",
    "#unique counts for key fields\n",
    "print(\"\\nUnique job titles:\", df[\"title\"].nunique())\n",
    "print(\"Unique locations:\", df[\"location\"].nunique())\n",
    "print(\"Unique formatted_work_types:\", df[\"formatted_work_type\"].nunique())\n",
    "print(\"Unique formatted_experience_levels:\", df[\"formatted_experience_level\"].nunique())\n",
    "\n",
    "#most common job titles\n",
    "print(\"\\nTop 10 job titles:\")\n",
    "print(df[\"title\"].value_counts().head(10))\n",
    "\n",
    "# locations\n",
    "print(\"\\nTop 10 locations:\")\n",
    "print(df[\"location\"].value_counts().head(10))\n",
    "\n",
    "# work types\n",
    "print(\"\\nWork type distribution:\")\n",
    "print(df[\"formatted_work_type\"].value_counts())\n",
    "\n",
    "# eexperience levels\n",
    "print(\"\\nExperience level distribution:\")\n",
    "print(df[\"formatted_experience_level\"].value_counts())\n"
   ]
  },
  {
   "cell_type": "code",
   "execution_count": 44,
   "id": "8d72e261-5971-4cd7-af0d-a8368f2d3e67",
   "metadata": {},
   "outputs": [
    {
     "name": "stdout",
     "output_type": "stream",
     "text": [
      "Final dataset shape: (10000, 7)\n",
      "Saved to: Job-postings-10k.csv\n"
     ]
    }
   ],
   "source": [
    "#using train_test_split here only because it has stratified sampling\n",
    "\n",
    "df_sampled, _ = train_test_split(\n",
    "    df,\n",
    "    train_size=10000,\n",
    "    stratify=df[\"formatted_experience_level\"],\n",
    "    random_state=42\n",
    ")\n",
    "\n",
    "df_sampled = df_sampled.reset_index(drop=True)\n",
    "print(\"Final dataset shape:\", df_sampled.shape)\n",
    "\n",
    "# save to CSV\n",
    "save_path = \"Job-postings-10k.csv\"\n",
    "df_sampled.to_csv(save_path, index=False, encoding=\"utf-8\")\n",
    "print(\"Saved to:\", save_path)\n"
   ]
  },
  {
   "cell_type": "code",
   "execution_count": 42,
   "id": "ed8bf162-bdcd-461c-bd85-dac45cdeee65",
   "metadata": {},
   "outputs": [
    {
     "data": {
      "image/png": "[encoded data removed]",
      "text/plain": [
       "<Figure size 640x480 with 1 Axes>"
      ]
     },
     "metadata": {},
     "output_type": "display_data"
    }
   ],
   "source": [
    "import matplotlib.pyplot as plt\n",
    "\n",
    "# Plot experience level distribution for the 20k stratified sample\n",
    "df_sampled[\"formatted_experience_level\"].value_counts().plot(\n",
    "    kind='bar', \n",
    "    color='skyblue'\n",
    ")\n",
    "\n",
    "plt.title(\"Experience Level Distribution (Stratified 10k Sample)\")\n",
    "plt.xlabel(\"Experience Level\")\n",
    "plt.ylabel(\"Count\")\n",
    "plt.xticks(rotation=45)\n",
    "plt.show()\n"
   ]
  },
  {
   "cell_type": "code",
   "execution_count": 43,
   "id": "63b0deab-f9f1-48df-b054-845c33ff4b35",
   "metadata": {},
   "outputs": [
    {
     "name": "stdout",
     "output_type": "stream",
     "text": [
      "Created zip archive: job_postings_10k.zip\n"
     ]
    }
   ],
   "source": [
    "# Due to technical reasons had to export as a zip\n",
    "import zipfile\n",
    "\n",
    "with zipfile.ZipFile(\"job_postings_10k.zip\", \"w\") as zipf:\n",
    "    zipf.write(\"Job-postings-10k.csv\")\n",
    "\n",
    "print(\"Created zip archive: job_postings_10k.zip\")\n"
   ]
  }
 ],
 "metadata": {
  "kernelspec": {
   "display_name": "Python 3 (ipykernel)",
   "language": "python",
   "name": "python3"
  },
  "language_info": {
   "codemirror_mode": {
    "name": "ipython",
    "version": 3
   },
   "file_extension": ".py",
   "mimetype": "text/x-python",
   "name": "python",
   "nbconvert_exporter": "python",
   "pygments_lexer": "ipython3",
   "version": "3.12.7"
  }
 },
 "nbformat": 4,
 "nbformat_minor": 5
}
